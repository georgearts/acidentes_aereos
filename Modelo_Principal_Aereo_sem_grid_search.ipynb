{
  "nbformat": 4,
  "nbformat_minor": 0,
  "metadata": {
    "colab": {
      "provenance": []
    },
    "kernelspec": {
      "name": "python3",
      "display_name": "Python 3"
    },
    "language_info": {
      "name": "python"
    }
  },
  "cells": [
    {
      "cell_type": "code",
      "execution_count": null,
      "metadata": {
        "id": "ZapzaSmRE-Dr"
      },
      "outputs": [],
      "source": [
        "import pandas as pd\n",
        "from sklearn.model_selection import train_test_split, GridSearchCV\n",
        "from sklearn.preprocessing import OneHotEncoder, LabelEncoder\n",
        "from sklearn.compose import ColumnTransformer\n",
        "from sklearn.pipeline import Pipeline\n",
        "from sklearn.ensemble import RandomForestClassifier\n",
        "from xgboost import XGBClassifier\n",
        "from lightgbm import LGBMClassifier\n",
        "from sklearn.metrics import classification_report, accuracy_score, confusion_matrix, ConfusionMatrixDisplay\n",
        "from imblearn.under_sampling import RandomUnderSampler\n",
        "import joblib\n",
        "import matplotlib.pyplot as plt\n",
        "from gdown import download"
      ]
    },
    {
      "cell_type": "code",
      "source": [
        "# Download the base de dados\n",
        "url = 'https://drive.google.com/uc?id=15FqnWO2ZSrWIjrZjMszGKd4MO43EyT1W'\n",
        "output = 'base.csv'\n",
        "\n",
        "download(url, output, quiet=False)\n",
        "\n",
        "# Load data and define columns\n",
        "df = pd.read_csv('base.csv', sep=';', encoding='utf-8')\n",
        "\n",
        "\n",
        "# Remover as colunas \"Status\" e \"Tipo\"\n",
        "df.drop(columns=['Status', 'Tipo', 'Matrícula'], inplace=True)\n",
        "\n",
        "# Salvar a base de dados processada em um novo arquivo CSV\n",
        "df.to_csv('processed_base.csv', index=False)\n",
        "\n",
        "df.head()"
      ],
      "metadata": {
        "colab": {
          "base_uri": "https://localhost:8080/",
          "height": 276
        },
        "id": "9t2i7tRWFDML",
        "outputId": "cf783a22-0e08-4274-a22b-f4e0c12909c4"
      },
      "execution_count": null,
      "outputs": [
        {
          "output_type": "stream",
          "name": "stderr",
          "text": [
            "Downloading...\n",
            "From: https://drive.google.com/uc?id=15FqnWO2ZSrWIjrZjMszGKd4MO43EyT1W\n",
            "To: /content/base.csv\n",
            "100%|██████████| 719k/719k [00:00<00:00, 9.39MB/s]\n"
          ]
        },
        {
          "output_type": "execute_result",
          "data": {
            "text/plain": [
              "   N° ocorrência        Data Classificação Localidade  UF Aeródromo  \\\n",
              "0          84647  09/05/2024     INCIDENTE  GUARULHOS  SP      SBGR   \n",
              "1          84650  08/05/2024     INCIDENTE     MANAUS  AM      SBEG   \n",
              "2          84642  08/05/2024     INCIDENTE   SALVADOR  BA       ***   \n",
              "3          84639  08/05/2024     INCIDENTE  GUARULHOS  SP      SBGR   \n",
              "4          84648  07/05/2024      ACIDENTE    IRACEMA  RR       ***   \n",
              "\n",
              "      Operação  \n",
              "0  NÃO REGULAR  \n",
              "1  NÃO REGULAR  \n",
              "2      REGULAR  \n",
              "3      REGULAR  \n",
              "4      PRIVADA  "
            ],
            "text/html": [
              "\n",
              "  <div id=\"df-5853e49e-2af1-4c32-92fb-3d53abeeafcf\" class=\"colab-df-container\">\n",
              "    <div>\n",
              "<style scoped>\n",
              "    .dataframe tbody tr th:only-of-type {\n",
              "        vertical-align: middle;\n",
              "    }\n",
              "\n",
              "    .dataframe tbody tr th {\n",
              "        vertical-align: top;\n",
              "    }\n",
              "\n",
              "    .dataframe thead th {\n",
              "        text-align: right;\n",
              "    }\n",
              "</style>\n",
              "<table border=\"1\" class=\"dataframe\">\n",
              "  <thead>\n",
              "    <tr style=\"text-align: right;\">\n",
              "      <th></th>\n",
              "      <th>N° ocorrência</th>\n",
              "      <th>Data</th>\n",
              "      <th>Classificação</th>\n",
              "      <th>Localidade</th>\n",
              "      <th>UF</th>\n",
              "      <th>Aeródromo</th>\n",
              "      <th>Operação</th>\n",
              "    </tr>\n",
              "  </thead>\n",
              "  <tbody>\n",
              "    <tr>\n",
              "      <th>0</th>\n",
              "      <td>84647</td>\n",
              "      <td>09/05/2024</td>\n",
              "      <td>INCIDENTE</td>\n",
              "      <td>GUARULHOS</td>\n",
              "      <td>SP</td>\n",
              "      <td>SBGR</td>\n",
              "      <td>NÃO REGULAR</td>\n",
              "    </tr>\n",
              "    <tr>\n",
              "      <th>1</th>\n",
              "      <td>84650</td>\n",
              "      <td>08/05/2024</td>\n",
              "      <td>INCIDENTE</td>\n",
              "      <td>MANAUS</td>\n",
              "      <td>AM</td>\n",
              "      <td>SBEG</td>\n",
              "      <td>NÃO REGULAR</td>\n",
              "    </tr>\n",
              "    <tr>\n",
              "      <th>2</th>\n",
              "      <td>84642</td>\n",
              "      <td>08/05/2024</td>\n",
              "      <td>INCIDENTE</td>\n",
              "      <td>SALVADOR</td>\n",
              "      <td>BA</td>\n",
              "      <td>***</td>\n",
              "      <td>REGULAR</td>\n",
              "    </tr>\n",
              "    <tr>\n",
              "      <th>3</th>\n",
              "      <td>84639</td>\n",
              "      <td>08/05/2024</td>\n",
              "      <td>INCIDENTE</td>\n",
              "      <td>GUARULHOS</td>\n",
              "      <td>SP</td>\n",
              "      <td>SBGR</td>\n",
              "      <td>REGULAR</td>\n",
              "    </tr>\n",
              "    <tr>\n",
              "      <th>4</th>\n",
              "      <td>84648</td>\n",
              "      <td>07/05/2024</td>\n",
              "      <td>ACIDENTE</td>\n",
              "      <td>IRACEMA</td>\n",
              "      <td>RR</td>\n",
              "      <td>***</td>\n",
              "      <td>PRIVADA</td>\n",
              "    </tr>\n",
              "  </tbody>\n",
              "</table>\n",
              "</div>\n",
              "    <div class=\"colab-df-buttons\">\n",
              "\n",
              "  <div class=\"colab-df-container\">\n",
              "    <button class=\"colab-df-convert\" onclick=\"convertToInteractive('df-5853e49e-2af1-4c32-92fb-3d53abeeafcf')\"\n",
              "            title=\"Convert this dataframe to an interactive table.\"\n",
              "            style=\"display:none;\">\n",
              "\n",
              "  <svg xmlns=\"http://www.w3.org/2000/svg\" height=\"24px\" viewBox=\"0 -960 960 960\">\n",
              "    <path d=\"M120-120v-720h720v720H120Zm60-500h600v-160H180v160Zm220 220h160v-160H400v160Zm0 220h160v-160H400v160ZM180-400h160v-160H180v160Zm440 0h160v-160H620v160ZM180-180h160v-160H180v160Zm440 0h160v-160H620v160Z\"/>\n",
              "  </svg>\n",
              "    </button>\n",
              "\n",
              "  <style>\n",
              "    .colab-df-container {\n",
              "      display:flex;\n",
              "      gap: 12px;\n",
              "    }\n",
              "\n",
              "    .colab-df-convert {\n",
              "      background-color: #E8F0FE;\n",
              "      border: none;\n",
              "      border-radius: 50%;\n",
              "      cursor: pointer;\n",
              "      display: none;\n",
              "      fill: #1967D2;\n",
              "      height: 32px;\n",
              "      padding: 0 0 0 0;\n",
              "      width: 32px;\n",
              "    }\n",
              "\n",
              "    .colab-df-convert:hover {\n",
              "      background-color: #E2EBFA;\n",
              "      box-shadow: 0px 1px 2px rgba(60, 64, 67, 0.3), 0px 1px 3px 1px rgba(60, 64, 67, 0.15);\n",
              "      fill: #174EA6;\n",
              "    }\n",
              "\n",
              "    .colab-df-buttons div {\n",
              "      margin-bottom: 4px;\n",
              "    }\n",
              "\n",
              "    [theme=dark] .colab-df-convert {\n",
              "      background-color: #3B4455;\n",
              "      fill: #D2E3FC;\n",
              "    }\n",
              "\n",
              "    [theme=dark] .colab-df-convert:hover {\n",
              "      background-color: #434B5C;\n",
              "      box-shadow: 0px 1px 3px 1px rgba(0, 0, 0, 0.15);\n",
              "      filter: drop-shadow(0px 1px 2px rgba(0, 0, 0, 0.3));\n",
              "      fill: #FFFFFF;\n",
              "    }\n",
              "  </style>\n",
              "\n",
              "    <script>\n",
              "      const buttonEl =\n",
              "        document.querySelector('#df-5853e49e-2af1-4c32-92fb-3d53abeeafcf button.colab-df-convert');\n",
              "      buttonEl.style.display =\n",
              "        google.colab.kernel.accessAllowed ? 'block' : 'none';\n",
              "\n",
              "      async function convertToInteractive(key) {\n",
              "        const element = document.querySelector('#df-5853e49e-2af1-4c32-92fb-3d53abeeafcf');\n",
              "        const dataTable =\n",
              "          await google.colab.kernel.invokeFunction('convertToInteractive',\n",
              "                                                    [key], {});\n",
              "        if (!dataTable) return;\n",
              "\n",
              "        const docLinkHtml = 'Like what you see? Visit the ' +\n",
              "          '<a target=\"_blank\" href=https://colab.research.google.com/notebooks/data_table.ipynb>data table notebook</a>'\n",
              "          + ' to learn more about interactive tables.';\n",
              "        element.innerHTML = '';\n",
              "        dataTable['output_type'] = 'display_data';\n",
              "        await google.colab.output.renderOutput(dataTable, element);\n",
              "        const docLink = document.createElement('div');\n",
              "        docLink.innerHTML = docLinkHtml;\n",
              "        element.appendChild(docLink);\n",
              "      }\n",
              "    </script>\n",
              "  </div>\n",
              "\n",
              "\n",
              "<div id=\"df-dff01c51-b5e2-4149-ac96-f5e97483c72a\">\n",
              "  <button class=\"colab-df-quickchart\" onclick=\"quickchart('df-dff01c51-b5e2-4149-ac96-f5e97483c72a')\"\n",
              "            title=\"Suggest charts\"\n",
              "            style=\"display:none;\">\n",
              "\n",
              "<svg xmlns=\"http://www.w3.org/2000/svg\" height=\"24px\"viewBox=\"0 0 24 24\"\n",
              "     width=\"24px\">\n",
              "    <g>\n",
              "        <path d=\"M19 3H5c-1.1 0-2 .9-2 2v14c0 1.1.9 2 2 2h14c1.1 0 2-.9 2-2V5c0-1.1-.9-2-2-2zM9 17H7v-7h2v7zm4 0h-2V7h2v10zm4 0h-2v-4h2v4z\"/>\n",
              "    </g>\n",
              "</svg>\n",
              "  </button>\n",
              "\n",
              "<style>\n",
              "  .colab-df-quickchart {\n",
              "      --bg-color: #E8F0FE;\n",
              "      --fill-color: #1967D2;\n",
              "      --hover-bg-color: #E2EBFA;\n",
              "      --hover-fill-color: #174EA6;\n",
              "      --disabled-fill-color: #AAA;\n",
              "      --disabled-bg-color: #DDD;\n",
              "  }\n",
              "\n",
              "  [theme=dark] .colab-df-quickchart {\n",
              "      --bg-color: #3B4455;\n",
              "      --fill-color: #D2E3FC;\n",
              "      --hover-bg-color: #434B5C;\n",
              "      --hover-fill-color: #FFFFFF;\n",
              "      --disabled-bg-color: #3B4455;\n",
              "      --disabled-fill-color: #666;\n",
              "  }\n",
              "\n",
              "  .colab-df-quickchart {\n",
              "    background-color: var(--bg-color);\n",
              "    border: none;\n",
              "    border-radius: 50%;\n",
              "    cursor: pointer;\n",
              "    display: none;\n",
              "    fill: var(--fill-color);\n",
              "    height: 32px;\n",
              "    padding: 0;\n",
              "    width: 32px;\n",
              "  }\n",
              "\n",
              "  .colab-df-quickchart:hover {\n",
              "    background-color: var(--hover-bg-color);\n",
              "    box-shadow: 0 1px 2px rgba(60, 64, 67, 0.3), 0 1px 3px 1px rgba(60, 64, 67, 0.15);\n",
              "    fill: var(--button-hover-fill-color);\n",
              "  }\n",
              "\n",
              "  .colab-df-quickchart-complete:disabled,\n",
              "  .colab-df-quickchart-complete:disabled:hover {\n",
              "    background-color: var(--disabled-bg-color);\n",
              "    fill: var(--disabled-fill-color);\n",
              "    box-shadow: none;\n",
              "  }\n",
              "\n",
              "  .colab-df-spinner {\n",
              "    border: 2px solid var(--fill-color);\n",
              "    border-color: transparent;\n",
              "    border-bottom-color: var(--fill-color);\n",
              "    animation:\n",
              "      spin 1s steps(1) infinite;\n",
              "  }\n",
              "\n",
              "  @keyframes spin {\n",
              "    0% {\n",
              "      border-color: transparent;\n",
              "      border-bottom-color: var(--fill-color);\n",
              "      border-left-color: var(--fill-color);\n",
              "    }\n",
              "    20% {\n",
              "      border-color: transparent;\n",
              "      border-left-color: var(--fill-color);\n",
              "      border-top-color: var(--fill-color);\n",
              "    }\n",
              "    30% {\n",
              "      border-color: transparent;\n",
              "      border-left-color: var(--fill-color);\n",
              "      border-top-color: var(--fill-color);\n",
              "      border-right-color: var(--fill-color);\n",
              "    }\n",
              "    40% {\n",
              "      border-color: transparent;\n",
              "      border-right-color: var(--fill-color);\n",
              "      border-top-color: var(--fill-color);\n",
              "    }\n",
              "    60% {\n",
              "      border-color: transparent;\n",
              "      border-right-color: var(--fill-color);\n",
              "    }\n",
              "    80% {\n",
              "      border-color: transparent;\n",
              "      border-right-color: var(--fill-color);\n",
              "      border-bottom-color: var(--fill-color);\n",
              "    }\n",
              "    90% {\n",
              "      border-color: transparent;\n",
              "      border-bottom-color: var(--fill-color);\n",
              "    }\n",
              "  }\n",
              "</style>\n",
              "\n",
              "  <script>\n",
              "    async function quickchart(key) {\n",
              "      const quickchartButtonEl =\n",
              "        document.querySelector('#' + key + ' button');\n",
              "      quickchartButtonEl.disabled = true;  // To prevent multiple clicks.\n",
              "      quickchartButtonEl.classList.add('colab-df-spinner');\n",
              "      try {\n",
              "        const charts = await google.colab.kernel.invokeFunction(\n",
              "            'suggestCharts', [key], {});\n",
              "      } catch (error) {\n",
              "        console.error('Error during call to suggestCharts:', error);\n",
              "      }\n",
              "      quickchartButtonEl.classList.remove('colab-df-spinner');\n",
              "      quickchartButtonEl.classList.add('colab-df-quickchart-complete');\n",
              "    }\n",
              "    (() => {\n",
              "      let quickchartButtonEl =\n",
              "        document.querySelector('#df-dff01c51-b5e2-4149-ac96-f5e97483c72a button');\n",
              "      quickchartButtonEl.style.display =\n",
              "        google.colab.kernel.accessAllowed ? 'block' : 'none';\n",
              "    })();\n",
              "  </script>\n",
              "</div>\n",
              "\n",
              "    </div>\n",
              "  </div>\n"
            ],
            "application/vnd.google.colaboratory.intrinsic+json": {
              "type": "dataframe",
              "variable_name": "df",
              "summary": "{\n  \"name\": \"df\",\n  \"rows\": 7160,\n  \"fields\": [\n    {\n      \"column\": \"N\\u00b0 ocorr\\u00eancia\",\n      \"properties\": {\n        \"dtype\": \"number\",\n        \"std\": 10688,\n        \"min\": 50753,\n        \"max\": 84650,\n        \"num_unique_values\": 7160,\n        \"samples\": [\n          82096,\n          52314,\n          84453\n        ],\n        \"semantic_type\": \"\",\n        \"description\": \"\"\n      }\n    },\n    {\n      \"column\": \"Data\",\n      \"properties\": {\n        \"dtype\": \"category\",\n        \"num_unique_values\": 2847,\n        \"samples\": [\n          \"14/01/2019\",\n          \"15/06/2023\",\n          \"27/10/2016\"\n        ],\n        \"semantic_type\": \"\",\n        \"description\": \"\"\n      }\n    },\n    {\n      \"column\": \"Classifica\\u00e7\\u00e3o\",\n      \"properties\": {\n        \"dtype\": \"category\",\n        \"num_unique_values\": 3,\n        \"samples\": [\n          \"INCIDENTE\",\n          \"ACIDENTE\",\n          \"INCIDENTE GRAVE\"\n        ],\n        \"semantic_type\": \"\",\n        \"description\": \"\"\n      }\n    },\n    {\n      \"column\": \"Localidade\",\n      \"properties\": {\n        \"dtype\": \"category\",\n        \"num_unique_values\": 1084,\n        \"samples\": [\n          \"PEN\\u00c1POLIS\",\n          \"ALTAMIRA\",\n          \"PRIMAVERA DO LESTE\"\n        ],\n        \"semantic_type\": \"\",\n        \"description\": \"\"\n      }\n    },\n    {\n      \"column\": \"UF\",\n      \"properties\": {\n        \"dtype\": \"category\",\n        \"num_unique_values\": 28,\n        \"samples\": [\n          \"PE\",\n          \"AC\",\n          \"MT\"\n        ],\n        \"semantic_type\": \"\",\n        \"description\": \"\"\n      }\n    },\n    {\n      \"column\": \"Aer\\u00f3dromo\",\n      \"properties\": {\n        \"dtype\": \"category\",\n        \"num_unique_values\": 571,\n        \"samples\": [\n          \"SIKC\",\n          \"SIZC\",\n          \"SDIH\"\n        ],\n        \"semantic_type\": \"\",\n        \"description\": \"\"\n      }\n    },\n    {\n      \"column\": \"Opera\\u00e7\\u00e3o\",\n      \"properties\": {\n        \"dtype\": \"category\",\n        \"num_unique_values\": 26,\n        \"samples\": [\n          \"INSTRU\\u00c7\\u00c3O\",\n          \"POLICIAL, PRIVADA\",\n          \"N\\u00c3O REGULAR\"\n        ],\n        \"semantic_type\": \"\",\n        \"description\": \"\"\n      }\n    }\n  ]\n}"
            }
          },
          "metadata": {},
          "execution_count": 2
        }
      ]
    },
    {
      "cell_type": "code",
      "source": [
        "#Valores nulos em cada coluna\n",
        "valores_nulos = df.isnull().sum()\n",
        "\n",
        "# Mostrar o resultado\n",
        "print(valores_nulos)"
      ],
      "metadata": {
        "colab": {
          "base_uri": "https://localhost:8080/"
        },
        "id": "8o3rQ6l1GQec",
        "outputId": "6287cee9-dea0-42bc-802a-0f5af8c8fbb4"
      },
      "execution_count": null,
      "outputs": [
        {
          "output_type": "stream",
          "name": "stdout",
          "text": [
            "N° ocorrência    0\n",
            "Data             0\n",
            "Classificação    0\n",
            "Localidade       0\n",
            "UF               0\n",
            "Aeródromo        0\n",
            "Operação         1\n",
            "dtype: int64\n"
          ]
        }
      ]
    },
    {
      "cell_type": "code",
      "source": [
        "# Encontrar linhas com dados iguais em todas as colunas\n",
        "linhas_duplicadas = df[df.duplicated(keep=False)]\n",
        "linhas_duplicadas"
      ],
      "metadata": {
        "colab": {
          "base_uri": "https://localhost:8080/",
          "height": 89
        },
        "id": "BoGK730PGZXU",
        "outputId": "0327c608-aa33-456c-b3a7-ba7c08ad8543"
      },
      "execution_count": null,
      "outputs": [
        {
          "output_type": "execute_result",
          "data": {
            "text/plain": [
              "Empty DataFrame\n",
              "Columns: [N° ocorrência, Data, Classificação, Localidade, UF, Aeródromo, Operação]\n",
              "Index: []"
            ],
            "text/html": [
              "\n",
              "  <div id=\"df-d7857759-6c89-4b5a-bb94-69d0f899823a\" class=\"colab-df-container\">\n",
              "    <div>\n",
              "<style scoped>\n",
              "    .dataframe tbody tr th:only-of-type {\n",
              "        vertical-align: middle;\n",
              "    }\n",
              "\n",
              "    .dataframe tbody tr th {\n",
              "        vertical-align: top;\n",
              "    }\n",
              "\n",
              "    .dataframe thead th {\n",
              "        text-align: right;\n",
              "    }\n",
              "</style>\n",
              "<table border=\"1\" class=\"dataframe\">\n",
              "  <thead>\n",
              "    <tr style=\"text-align: right;\">\n",
              "      <th></th>\n",
              "      <th>N° ocorrência</th>\n",
              "      <th>Data</th>\n",
              "      <th>Classificação</th>\n",
              "      <th>Localidade</th>\n",
              "      <th>UF</th>\n",
              "      <th>Aeródromo</th>\n",
              "      <th>Operação</th>\n",
              "    </tr>\n",
              "  </thead>\n",
              "  <tbody>\n",
              "  </tbody>\n",
              "</table>\n",
              "</div>\n",
              "    <div class=\"colab-df-buttons\">\n",
              "\n",
              "  <div class=\"colab-df-container\">\n",
              "    <button class=\"colab-df-convert\" onclick=\"convertToInteractive('df-d7857759-6c89-4b5a-bb94-69d0f899823a')\"\n",
              "            title=\"Convert this dataframe to an interactive table.\"\n",
              "            style=\"display:none;\">\n",
              "\n",
              "  <svg xmlns=\"http://www.w3.org/2000/svg\" height=\"24px\" viewBox=\"0 -960 960 960\">\n",
              "    <path d=\"M120-120v-720h720v720H120Zm60-500h600v-160H180v160Zm220 220h160v-160H400v160Zm0 220h160v-160H400v160ZM180-400h160v-160H180v160Zm440 0h160v-160H620v160ZM180-180h160v-160H180v160Zm440 0h160v-160H620v160Z\"/>\n",
              "  </svg>\n",
              "    </button>\n",
              "\n",
              "  <style>\n",
              "    .colab-df-container {\n",
              "      display:flex;\n",
              "      gap: 12px;\n",
              "    }\n",
              "\n",
              "    .colab-df-convert {\n",
              "      background-color: #E8F0FE;\n",
              "      border: none;\n",
              "      border-radius: 50%;\n",
              "      cursor: pointer;\n",
              "      display: none;\n",
              "      fill: #1967D2;\n",
              "      height: 32px;\n",
              "      padding: 0 0 0 0;\n",
              "      width: 32px;\n",
              "    }\n",
              "\n",
              "    .colab-df-convert:hover {\n",
              "      background-color: #E2EBFA;\n",
              "      box-shadow: 0px 1px 2px rgba(60, 64, 67, 0.3), 0px 1px 3px 1px rgba(60, 64, 67, 0.15);\n",
              "      fill: #174EA6;\n",
              "    }\n",
              "\n",
              "    .colab-df-buttons div {\n",
              "      margin-bottom: 4px;\n",
              "    }\n",
              "\n",
              "    [theme=dark] .colab-df-convert {\n",
              "      background-color: #3B4455;\n",
              "      fill: #D2E3FC;\n",
              "    }\n",
              "\n",
              "    [theme=dark] .colab-df-convert:hover {\n",
              "      background-color: #434B5C;\n",
              "      box-shadow: 0px 1px 3px 1px rgba(0, 0, 0, 0.15);\n",
              "      filter: drop-shadow(0px 1px 2px rgba(0, 0, 0, 0.3));\n",
              "      fill: #FFFFFF;\n",
              "    }\n",
              "  </style>\n",
              "\n",
              "    <script>\n",
              "      const buttonEl =\n",
              "        document.querySelector('#df-d7857759-6c89-4b5a-bb94-69d0f899823a button.colab-df-convert');\n",
              "      buttonEl.style.display =\n",
              "        google.colab.kernel.accessAllowed ? 'block' : 'none';\n",
              "\n",
              "      async function convertToInteractive(key) {\n",
              "        const element = document.querySelector('#df-d7857759-6c89-4b5a-bb94-69d0f899823a');\n",
              "        const dataTable =\n",
              "          await google.colab.kernel.invokeFunction('convertToInteractive',\n",
              "                                                    [key], {});\n",
              "        if (!dataTable) return;\n",
              "\n",
              "        const docLinkHtml = 'Like what you see? Visit the ' +\n",
              "          '<a target=\"_blank\" href=https://colab.research.google.com/notebooks/data_table.ipynb>data table notebook</a>'\n",
              "          + ' to learn more about interactive tables.';\n",
              "        element.innerHTML = '';\n",
              "        dataTable['output_type'] = 'display_data';\n",
              "        await google.colab.output.renderOutput(dataTable, element);\n",
              "        const docLink = document.createElement('div');\n",
              "        docLink.innerHTML = docLinkHtml;\n",
              "        element.appendChild(docLink);\n",
              "      }\n",
              "    </script>\n",
              "  </div>\n",
              "\n",
              "\n",
              "  <div id=\"id_26642816-aca9-49f3-afa5-b9c1b292c48d\">\n",
              "    <style>\n",
              "      .colab-df-generate {\n",
              "        background-color: #E8F0FE;\n",
              "        border: none;\n",
              "        border-radius: 50%;\n",
              "        cursor: pointer;\n",
              "        display: none;\n",
              "        fill: #1967D2;\n",
              "        height: 32px;\n",
              "        padding: 0 0 0 0;\n",
              "        width: 32px;\n",
              "      }\n",
              "\n",
              "      .colab-df-generate:hover {\n",
              "        background-color: #E2EBFA;\n",
              "        box-shadow: 0px 1px 2px rgba(60, 64, 67, 0.3), 0px 1px 3px 1px rgba(60, 64, 67, 0.15);\n",
              "        fill: #174EA6;\n",
              "      }\n",
              "\n",
              "      [theme=dark] .colab-df-generate {\n",
              "        background-color: #3B4455;\n",
              "        fill: #D2E3FC;\n",
              "      }\n",
              "\n",
              "      [theme=dark] .colab-df-generate:hover {\n",
              "        background-color: #434B5C;\n",
              "        box-shadow: 0px 1px 3px 1px rgba(0, 0, 0, 0.15);\n",
              "        filter: drop-shadow(0px 1px 2px rgba(0, 0, 0, 0.3));\n",
              "        fill: #FFFFFF;\n",
              "      }\n",
              "    </style>\n",
              "    <button class=\"colab-df-generate\" onclick=\"generateWithVariable('linhas_duplicadas')\"\n",
              "            title=\"Generate code using this dataframe.\"\n",
              "            style=\"display:none;\">\n",
              "\n",
              "  <svg xmlns=\"http://www.w3.org/2000/svg\" height=\"24px\"viewBox=\"0 0 24 24\"\n",
              "       width=\"24px\">\n",
              "    <path d=\"M7,19H8.4L18.45,9,17,7.55,7,17.6ZM5,21V16.75L18.45,3.32a2,2,0,0,1,2.83,0l1.4,1.43a1.91,1.91,0,0,1,.58,1.4,1.91,1.91,0,0,1-.58,1.4L9.25,21ZM18.45,9,17,7.55Zm-12,3A5.31,5.31,0,0,0,4.9,8.1,5.31,5.31,0,0,0,1,6.5,5.31,5.31,0,0,0,4.9,4.9,5.31,5.31,0,0,0,6.5,1,5.31,5.31,0,0,0,8.1,4.9,5.31,5.31,0,0,0,12,6.5,5.46,5.46,0,0,0,6.5,12Z\"/>\n",
              "  </svg>\n",
              "    </button>\n",
              "    <script>\n",
              "      (() => {\n",
              "      const buttonEl =\n",
              "        document.querySelector('#id_26642816-aca9-49f3-afa5-b9c1b292c48d button.colab-df-generate');\n",
              "      buttonEl.style.display =\n",
              "        google.colab.kernel.accessAllowed ? 'block' : 'none';\n",
              "\n",
              "      buttonEl.onclick = () => {\n",
              "        google.colab.notebook.generateWithVariable('linhas_duplicadas');\n",
              "      }\n",
              "      })();\n",
              "    </script>\n",
              "  </div>\n",
              "\n",
              "    </div>\n",
              "  </div>\n"
            ],
            "application/vnd.google.colaboratory.intrinsic+json": {
              "type": "dataframe",
              "variable_name": "linhas_duplicadas",
              "repr_error": "Out of range float values are not JSON compliant: nan"
            }
          },
          "metadata": {},
          "execution_count": 4
        }
      ]
    },
    {
      "cell_type": "code",
      "source": [],
      "metadata": {
        "id": "B4LvGhy1wIJJ"
      },
      "execution_count": null,
      "outputs": []
    },
    {
      "cell_type": "code",
      "source": [
        "# Codificação das variáveis categóricas    Retirar Status e Tipos\n",
        "categorical_features = ['Localidade', 'UF', 'Aeródromo', 'Operação']\n",
        "categorical_transformer = OneHotEncoder(handle_unknown='ignore')\n",
        "\n",
        "preprocessor = ColumnTransformer(\n",
        "    transformers=[\n",
        "        ('cat', categorical_transformer, categorical_features)])\n"
      ],
      "metadata": {
        "id": "psEtxbZnHEKA"
      },
      "execution_count": null,
      "outputs": []
    },
    {
      "cell_type": "code",
      "source": [
        "# Codificação da variável alvo\n",
        "label_encoder = LabelEncoder()\n",
        "df['Classificação'] = label_encoder.fit_transform(df['Classificação'])"
      ],
      "metadata": {
        "id": "VT1CwPpzLIy6"
      },
      "execution_count": null,
      "outputs": []
    },
    {
      "cell_type": "code",
      "source": [
        "# Dividindo os dados em conjunto de treino e teste\n",
        "X = df.drop('Classificação', axis=1)\n",
        "y = df['Classificação']"
      ],
      "metadata": {
        "id": "KGeQWH9JKCsI"
      },
      "execution_count": null,
      "outputs": []
    },
    {
      "cell_type": "code",
      "source": [
        "# Undersampling\n",
        "undersample = RandomUnderSampler(sampling_strategy='auto', random_state=42)\n",
        "X_resampled, y_resampled = undersample.fit_resample(X, y)"
      ],
      "metadata": {
        "id": "df8z_Pbk9bLO"
      },
      "execution_count": null,
      "outputs": []
    },
    {
      "cell_type": "code",
      "source": [
        "# Separando novamente os dados em treino e teste\n",
        "X_train, X_test, y_train, y_test = train_test_split(\n",
        "    X_resampled, y_resampled, test_size=0.2, random_state=42\n",
        ")"
      ],
      "metadata": {
        "id": "-USzMw3gl7Ze"
      },
      "execution_count": null,
      "outputs": []
    },
    {
      "cell_type": "code",
      "source": [
        "# Definir o pipeline para o Random Forest\n",
        "rf_pipeline = Pipeline(steps=[('preprocessor', preprocessor),\n",
        "                              ('classifier', RandomForestClassifier(random_state=42))])\n",
        "\n"
      ],
      "metadata": {
        "id": "wKPp65CiHO-3"
      },
      "execution_count": null,
      "outputs": []
    },
    {
      "cell_type": "code",
      "source": [
        "# Definir o pipeline para o XGBoost\n",
        "xgb_pipeline = Pipeline(steps=[('preprocessor', preprocessor),\n",
        "                               ('classifier', XGBClassifier(random_state=42))])"
      ],
      "metadata": {
        "id": "OsikmNHMKqek"
      },
      "execution_count": null,
      "outputs": []
    },
    {
      "cell_type": "code",
      "source": [
        "# Definir o pipeline para o LightGBM\n",
        "lgb_pipeline = Pipeline(steps=[('preprocessor', preprocessor),\n",
        "                               ('classifier', LGBMClassifier(random_state=42))])\n"
      ],
      "metadata": {
        "id": "85bWLmIOLgXQ"
      },
      "execution_count": null,
      "outputs": []
    },
    {
      "cell_type": "code",
      "source": [
        "# Treinando e avaliando o Random Forest\n",
        "rf_pipeline.fit(X_resampled, y_resampled)\n",
        "rf_pred = rf_pipeline.predict(X_test)\n",
        "\n",
        "# Defina os nomes das classes\n",
        "target_names = ['ACIDENTE', 'INCIDENTE', 'INCIDENTE GRAVE']\n",
        "\n",
        "print(\"Random Forest Classifier\")\n",
        "print(classification_report(y_test, rf_pred, target_names=target_names))"
      ],
      "metadata": {
        "id": "UypY0xP_Ljf3",
        "colab": {
          "base_uri": "https://localhost:8080/"
        },
        "outputId": "b3543b89-c09c-42c5-c47d-3926c2a4bfe7"
      },
      "execution_count": null,
      "outputs": [
        {
          "output_type": "stream",
          "name": "stdout",
          "text": [
            "Random Forest Classifier\n",
            "                 precision    recall  f1-score   support\n",
            "\n",
            "       ACIDENTE       0.94      0.90      0.92       146\n",
            "      INCIDENTE       0.91      0.94      0.92       139\n",
            "INCIDENTE GRAVE       0.85      0.87      0.86       141\n",
            "\n",
            "       accuracy                           0.90       426\n",
            "      macro avg       0.90      0.90      0.90       426\n",
            "   weighted avg       0.90      0.90      0.90       426\n",
            "\n"
          ]
        }
      ]
    },
    {
      "cell_type": "code",
      "source": [
        "# Gerar matriz de confusão para Random Forest\n",
        "rf_cm = confusion_matrix(y_test, rf_pred, labels=rf_pipeline.named_steps['classifier'].classes_)\n",
        "disp_rf = ConfusionMatrixDisplay(confusion_matrix=rf_cm, display_labels=label_encoder.classes_)\n",
        "disp_rf.plot()\n",
        "plt.title('Random Forest Classifier - Matriz de Confusão')\n",
        "plt.show()"
      ],
      "metadata": {
        "id": "ZXJeCQ459q3s",
        "colab": {
          "base_uri": "https://localhost:8080/",
          "height": 472
        },
        "outputId": "532dbf22-cab4-481f-9916-9ba3df3b49af"
      },
      "execution_count": null,
      "outputs": [
        {
          "output_type": "display_data",
          "data": {
            "text/plain": [
              "<Figure size 640x480 with 2 Axes>"
            ],
            "image/png": "[encoded data removed]"
          },
          "metadata": {}
        }
      ]
    },
    {
      "cell_type": "code",
      "source": [
        "# Salvar o modelo Random Forest\n",
        "joblib.dump(rf_pipeline, 'random_forest_model.pkl')"
      ],
      "metadata": {
        "id": "VPCry3zq9s8z",
        "colab": {
          "base_uri": "https://localhost:8080/"
        },
        "outputId": "80f9e72b-7b76-4d88-80ae-4fc8b6783a8b"
      },
      "execution_count": null,
      "outputs": [
        {
          "output_type": "execute_result",
          "data": {
            "text/plain": [
              "['random_forest_model.pkl']"
            ]
          },
          "metadata": {},
          "execution_count": 15
        }
      ]
    },
    {
      "cell_type": "code",
      "source": [
        "# Treinando e avaliando o XGBoost\n",
        "xgb_pipeline.fit(X_resampled, y_resampled)\n",
        "xgb_pred = xgb_pipeline.predict(X_test)\n",
        "print(\"XGBoost Classifier\")\n",
        "print(classification_report(y_test, xgb_pred, target_names=target_names))"
      ],
      "metadata": {
        "id": "xsKUGZdvLmUP",
        "colab": {
          "base_uri": "https://localhost:8080/"
        },
        "outputId": "452db51b-d977-433a-e497-d29a4b25caba"
      },
      "execution_count": null,
      "outputs": [
        {
          "output_type": "stream",
          "name": "stdout",
          "text": [
            "XGBoost Classifier\n",
            "                 precision    recall  f1-score   support\n",
            "\n",
            "       ACIDENTE       0.73      0.80      0.76       146\n",
            "      INCIDENTE       0.89      0.83      0.86       139\n",
            "INCIDENTE GRAVE       0.67      0.65      0.66       141\n",
            "\n",
            "       accuracy                           0.76       426\n",
            "      macro avg       0.76      0.76      0.76       426\n",
            "   weighted avg       0.76      0.76      0.76       426\n",
            "\n"
          ]
        }
      ]
    },
    {
      "cell_type": "code",
      "source": [
        "# Gerar matriz de confusão para XGBoost\n",
        "xgb_cm = confusion_matrix(y_test, xgb_pred, labels=xgb_pipeline.named_steps['classifier'].classes_)\n",
        "disp_xgb = ConfusionMatrixDisplay(confusion_matrix=xgb_cm, display_labels=label_encoder.classes_)\n",
        "disp_xgb.plot()\n",
        "plt.title('XGBoost Classifier - Matriz de Confusão')\n",
        "plt.show()"
      ],
      "metadata": {
        "id": "Hrcgng1z907r",
        "colab": {
          "base_uri": "https://localhost:8080/",
          "height": 472
        },
        "outputId": "4532f4d6-82fc-4224-e75e-52899dd9db26"
      },
      "execution_count": null,
      "outputs": [
        {
          "output_type": "display_data",
          "data": {
            "text/plain": [
              "<Figure size 640x480 with 2 Axes>"
            ],
            "image/png": "[encoded data removed]"
          },
          "metadata": {}
        }
      ]
    },
    {
      "cell_type": "code",
      "source": [
        "# Salvar o modelo XGBoost\n",
        "joblib.dump(xgb_pipeline, 'xgboost_model.pkl')"
      ],
      "metadata": {
        "id": "LPK8Bb0k97jS",
        "colab": {
          "base_uri": "https://localhost:8080/"
        },
        "outputId": "2e5a631b-88e4-409c-e203-e4789495808d"
      },
      "execution_count": null,
      "outputs": [
        {
          "output_type": "execute_result",
          "data": {
            "text/plain": [
              "['xgboost_model.pkl']"
            ]
          },
          "metadata": {},
          "execution_count": 18
        }
      ]
    },
    {
      "cell_type": "code",
      "source": [
        "# Treinando e avaliando o LightGBM\n",
        "lgb_pipeline.fit(X_resampled, y_resampled)\n",
        "lgb_pred = lgb_pipeline.predict(X_test)\n",
        "print(\"LightGBM Classifier\")\n",
        "print(classification_report(y_test, lgb_pred, target_names=target_names))"
      ],
      "metadata": {
        "id": "cLJebjsdLoz_",
        "colab": {
          "base_uri": "https://localhost:8080/"
        },
        "outputId": "9ebf0afc-1fc2-4b6f-ab26-9a41cb95d68e"
      },
      "execution_count": null,
      "outputs": [
        {
          "output_type": "stream",
          "name": "stdout",
          "text": [
            "[LightGBM] [Info] Auto-choosing col-wise multi-threading, the overhead of testing was 0.000414 seconds.\n",
            "You can set `force_col_wise=true` to remove the overhead.\n",
            "[LightGBM] [Info] Total Bins 128\n",
            "[LightGBM] [Info] Number of data points in the train set: 2130, number of used features: 64\n",
            "[LightGBM] [Info] Start training from score -1.098612\n",
            "[LightGBM] [Info] Start training from score -1.098612\n",
            "[LightGBM] [Info] Start training from score -1.098612\n",
            "LightGBM Classifier\n",
            "                 precision    recall  f1-score   support\n",
            "\n",
            "       ACIDENTE       0.68      0.73      0.70       146\n",
            "      INCIDENTE       0.87      0.81      0.84       139\n",
            "INCIDENTE GRAVE       0.61      0.62      0.61       141\n",
            "\n",
            "       accuracy                           0.72       426\n",
            "      macro avg       0.72      0.72      0.72       426\n",
            "   weighted avg       0.72      0.72      0.72       426\n",
            "\n"
          ]
        }
      ]
    },
    {
      "cell_type": "code",
      "source": [
        "# Gerar matriz de confusão para LightGBM\n",
        "lgb_cm = confusion_matrix(y_test, lgb_pred, labels=lgb_pipeline.named_steps['classifier'].classes_)\n",
        "disp_lgb = ConfusionMatrixDisplay(confusion_matrix=lgb_cm, display_labels=label_encoder.classes_)\n",
        "disp_lgb.plot()\n",
        "plt.title('LightGBM Classifier - Matriz de Confusão')\n",
        "plt.show()"
      ],
      "metadata": {
        "id": "i6prveR1PprA",
        "colab": {
          "base_uri": "https://localhost:8080/",
          "height": 472
        },
        "outputId": "ce6d2b5f-7d5c-4cc9-9a8f-1d414ef68352"
      },
      "execution_count": null,
      "outputs": [
        {
          "output_type": "display_data",
          "data": {
            "text/plain": [
              "<Figure size 640x480 with 2 Axes>"
            ],
            "image/png": "[encoded data removed]"
          },
          "metadata": {}
        }
      ]
    },
    {
      "cell_type": "code",
      "source": [
        "# Salvar o modelo LightGBM\n",
        "joblib.dump(lgb_pipeline, 'lightgbm_model.pkl')"
      ],
      "metadata": {
        "id": "Q0PV7AlHPvHR",
        "colab": {
          "base_uri": "https://localhost:8080/"
        },
        "outputId": "e14faeae-ebc1-40e4-c126-1707cf765f62"
      },
      "execution_count": null,
      "outputs": [
        {
          "output_type": "execute_result",
          "data": {
            "text/plain": [
              "['lightgbm_model.pkl']"
            ]
          },
          "metadata": {},
          "execution_count": 21
        }
      ]
    },
    {
      "cell_type": "code",
      "source": [
        "# Avaliação\n",
        "print(f\"Random Forest Accuracy: {accuracy_score(y_test, rf_pred) * 100:.2f}%\")\n",
        "print(f\"XGBoost Accuracy: {accuracy_score(y_test, xgb_pred) * 100:.2f}%\")\n",
        "print(f\"LightGBM Accuracy: {accuracy_score(y_test, lgb_pred) * 100:.2f}%\")"
      ],
      "metadata": {
        "id": "gqsqmAsMLrIe",
        "colab": {
          "base_uri": "https://localhost:8080/"
        },
        "outputId": "62470598-b915-4d19-8e79-60a6e3590cb0"
      },
      "execution_count": null,
      "outputs": [
        {
          "output_type": "stream",
          "name": "stdout",
          "text": [
            "Random Forest Accuracy: 89.91%\n",
            "XGBoost Accuracy: 76.06%\n",
            "LightGBM Accuracy: 71.60%\n"
          ]
        }
      ]
    }
  ]
}